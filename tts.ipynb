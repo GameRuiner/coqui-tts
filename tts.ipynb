{
 "cells": [
  {
   "cell_type": "code",
   "execution_count": 2,
   "id": "5fd0ef21",
   "metadata": {},
   "outputs": [
    {
     "name": "stderr",
     "output_type": "stream",
     "text": [
      "/Users/markogolovko/Projects/coqui-tts/.venv/lib/python3.12/site-packages/tqdm/auto.py:21: TqdmWarning: IProgress not found. Please update jupyter and ipywidgets. See https://ipywidgets.readthedocs.io/en/stable/user_install.html\n",
      "  from .autonotebook import tqdm as notebook_tqdm\n"
     ]
    }
   ],
   "source": [
    "import torch\n",
    "from TTS.api import TTS"
   ]
  },
  {
   "cell_type": "code",
   "execution_count": 3,
   "id": "f76f3ff4",
   "metadata": {},
   "outputs": [],
   "source": [
    "device = torch.device(\"cuda\" if torch.cuda.is_available() else \"cpu\")"
   ]
  },
  {
   "cell_type": "code",
   "execution_count": 4,
   "id": "e40b35bd",
   "metadata": {},
   "outputs": [
    {
     "data": {
      "text/plain": [
       "['tts_models/multilingual/multi-dataset/xtts_v2',\n",
       " 'tts_models/multilingual/multi-dataset/xtts_v1.1',\n",
       " 'tts_models/multilingual/multi-dataset/your_tts',\n",
       " 'tts_models/multilingual/multi-dataset/bark',\n",
       " 'tts_models/bg/cv/vits',\n",
       " 'tts_models/cs/cv/vits',\n",
       " 'tts_models/da/cv/vits',\n",
       " 'tts_models/et/cv/vits',\n",
       " 'tts_models/ga/cv/vits',\n",
       " 'tts_models/en/ek1/tacotron2',\n",
       " 'tts_models/en/ljspeech/tacotron2-DDC',\n",
       " 'tts_models/en/ljspeech/tacotron2-DDC_ph',\n",
       " 'tts_models/en/ljspeech/glow-tts',\n",
       " 'tts_models/en/ljspeech/speedy-speech',\n",
       " 'tts_models/en/ljspeech/tacotron2-DCA',\n",
       " 'tts_models/en/ljspeech/vits',\n",
       " 'tts_models/en/ljspeech/vits--neon',\n",
       " 'tts_models/en/ljspeech/fast_pitch',\n",
       " 'tts_models/en/ljspeech/overflow',\n",
       " 'tts_models/en/ljspeech/neural_hmm',\n",
       " 'tts_models/en/vctk/vits',\n",
       " 'tts_models/en/vctk/fast_pitch',\n",
       " 'tts_models/en/sam/tacotron-DDC',\n",
       " 'tts_models/en/blizzard2013/capacitron-t2-c50',\n",
       " 'tts_models/en/blizzard2013/capacitron-t2-c150_v2',\n",
       " 'tts_models/en/multi-dataset/tortoise-v2',\n",
       " 'tts_models/en/jenny/jenny',\n",
       " 'tts_models/es/mai/tacotron2-DDC',\n",
       " 'tts_models/es/css10/vits',\n",
       " 'tts_models/fr/mai/tacotron2-DDC',\n",
       " 'tts_models/fr/css10/vits',\n",
       " 'tts_models/uk/mai/glow-tts',\n",
       " 'tts_models/uk/mai/vits',\n",
       " 'tts_models/zh-CN/baker/tacotron2-DDC-GST',\n",
       " 'tts_models/nl/mai/tacotron2-DDC',\n",
       " 'tts_models/nl/css10/vits',\n",
       " 'tts_models/de/thorsten/tacotron2-DCA',\n",
       " 'tts_models/de/thorsten/vits',\n",
       " 'tts_models/de/thorsten/tacotron2-DDC',\n",
       " 'tts_models/de/css10/vits-neon',\n",
       " 'tts_models/ja/kokoro/tacotron2-DDC',\n",
       " 'tts_models/tr/common-voice/glow-tts',\n",
       " 'tts_models/it/mai_female/glow-tts',\n",
       " 'tts_models/it/mai_female/vits',\n",
       " 'tts_models/it/mai_male/glow-tts',\n",
       " 'tts_models/it/mai_male/vits',\n",
       " 'tts_models/ewe/openbible/vits',\n",
       " 'tts_models/hau/openbible/vits',\n",
       " 'tts_models/lin/openbible/vits',\n",
       " 'tts_models/tw_akuapem/openbible/vits',\n",
       " 'tts_models/tw_asante/openbible/vits',\n",
       " 'tts_models/yor/openbible/vits',\n",
       " 'tts_models/hu/css10/vits',\n",
       " 'tts_models/el/cv/vits',\n",
       " 'tts_models/fi/css10/vits',\n",
       " 'tts_models/hr/cv/vits',\n",
       " 'tts_models/lt/cv/vits',\n",
       " 'tts_models/lv/cv/vits',\n",
       " 'tts_models/mt/cv/vits',\n",
       " 'tts_models/pl/mai_female/vits',\n",
       " 'tts_models/pt/cv/vits',\n",
       " 'tts_models/ro/cv/vits',\n",
       " 'tts_models/sk/cv/vits',\n",
       " 'tts_models/sl/cv/vits',\n",
       " 'tts_models/sv/cv/vits',\n",
       " 'tts_models/ca/custom/vits',\n",
       " 'tts_models/fa/custom/glow-tts',\n",
       " 'tts_models/fa/custom/vits-female',\n",
       " 'tts_models/bn/custom/vits-male',\n",
       " 'tts_models/bn/custom/vits-female',\n",
       " 'tts_models/be/common-voice/glow-tts',\n",
       " 'vocoder_models/universal/libri-tts/wavegrad',\n",
       " 'vocoder_models/universal/libri-tts/fullband-melgan',\n",
       " 'vocoder_models/en/ek1/wavegrad',\n",
       " 'vocoder_models/en/librispeech100/wavlm-hifigan',\n",
       " 'vocoder_models/en/librispeech100/wavlm-hifigan_prematched',\n",
       " 'vocoder_models/en/ljspeech/multiband-melgan',\n",
       " 'vocoder_models/en/ljspeech/hifigan_v2',\n",
       " 'vocoder_models/en/ljspeech/univnet',\n",
       " 'vocoder_models/en/blizzard2013/hifigan_v2',\n",
       " 'vocoder_models/en/vctk/hifigan_v2',\n",
       " 'vocoder_models/en/sam/hifigan_v2',\n",
       " 'vocoder_models/nl/mai/parallel-wavegan',\n",
       " 'vocoder_models/de/thorsten/wavegrad',\n",
       " 'vocoder_models/de/thorsten/fullband-melgan',\n",
       " 'vocoder_models/de/thorsten/hifigan_v1',\n",
       " 'vocoder_models/ja/kokoro/hifigan_v1',\n",
       " 'vocoder_models/uk/mai/multiband-melgan',\n",
       " 'vocoder_models/tr/common-voice/hifigan',\n",
       " 'vocoder_models/be/common-voice/hifigan',\n",
       " 'voice_conversion_models/multilingual/vctk/freevc24',\n",
       " 'voice_conversion_models/multilingual/multi-dataset/knnvc',\n",
       " 'voice_conversion_models/multilingual/multi-dataset/openvoice_v1',\n",
       " 'voice_conversion_models/multilingual/multi-dataset/openvoice_v2']"
      ]
     },
     "execution_count": 4,
     "metadata": {},
     "output_type": "execute_result"
    }
   ],
   "source": [
    "TTS().list_models()"
   ]
  },
  {
   "cell_type": "code",
   "execution_count": 5,
   "id": "36c3aa60",
   "metadata": {},
   "outputs": [],
   "source": [
    "tts = TTS(\"tts_models/multilingual/multi-dataset/xtts_v2\").to(device)"
   ]
  },
  {
   "cell_type": "code",
   "execution_count": 7,
   "id": "c7d3635f",
   "metadata": {},
   "outputs": [
    {
     "data": {
      "text/plain": [
       "['Claribel Dervla',\n",
       " 'Daisy Studious',\n",
       " 'Gracie Wise',\n",
       " 'Tammie Ema',\n",
       " 'Alison Dietlinde',\n",
       " 'Ana Florence',\n",
       " 'Annmarie Nele',\n",
       " 'Asya Anara',\n",
       " 'Brenda Stern',\n",
       " 'Gitta Nikolina',\n",
       " 'Henriette Usha',\n",
       " 'Sofia Hellen',\n",
       " 'Tammy Grit',\n",
       " 'Tanja Adelina',\n",
       " 'Vjollca Johnnie',\n",
       " 'Andrew Chipper',\n",
       " 'Badr Odhiambo',\n",
       " 'Dionisio Schuyler',\n",
       " 'Royston Min',\n",
       " 'Viktor Eka',\n",
       " 'Abrahan Mack',\n",
       " 'Adde Michal',\n",
       " 'Baldur Sanjin',\n",
       " 'Craig Gutsy',\n",
       " 'Damien Black',\n",
       " 'Gilberto Mathias',\n",
       " 'Ilkin Urbano',\n",
       " 'Kazuhiko Atallah',\n",
       " 'Ludvig Milivoj',\n",
       " 'Suad Qasim',\n",
       " 'Torcull Diarmuid',\n",
       " 'Viktor Menelaos',\n",
       " 'Zacharie Aimilios',\n",
       " 'Nova Hogarth',\n",
       " 'Maja Ruoho',\n",
       " 'Uta Obando',\n",
       " 'Lidiya Szekeres',\n",
       " 'Chandra MacFarland',\n",
       " 'Szofi Granger',\n",
       " 'Camilla Holmström',\n",
       " 'Lilya Stainthorpe',\n",
       " 'Zofija Kendrick',\n",
       " 'Narelle Moon',\n",
       " 'Barbora MacLean',\n",
       " 'Alexandra Hisakawa',\n",
       " 'Alma María',\n",
       " 'Rosemary Okafor',\n",
       " 'Ige Behringer',\n",
       " 'Filip Traverse',\n",
       " 'Damjan Chapman',\n",
       " 'Wulf Carlevaro',\n",
       " 'Aaron Dreschner',\n",
       " 'Kumar Dahl',\n",
       " 'Eugenio Mataracı',\n",
       " 'Ferran Simen',\n",
       " 'Xavier Hayasaka',\n",
       " 'Luis Moray',\n",
       " 'Marcos Rudaski']"
      ]
     },
     "execution_count": 7,
     "metadata": {},
     "output_type": "execute_result"
    }
   ],
   "source": [
    "tts.speakers"
   ]
  },
  {
   "cell_type": "code",
   "execution_count": 16,
   "id": "f336cc0e",
   "metadata": {},
   "outputs": [
    {
     "data": {
      "text/plain": [
       "'generated/multilingual_xtts_v2/krzysiek.wav'"
      ]
     },
     "execution_count": 16,
     "metadata": {},
     "output_type": "execute_result"
    }
   ],
   "source": [
    "# prompt_text =\"The box sat on the desk next to the computer. It had arrived earlier in the day and business had interrupted her opening it earlier.\"\n",
    "target_text = \"She didn't who had sent it and briefly wondered who it might have been. As she began to unwrap it, she had no idea that opening it would completely change her life.\"\n",
    "target_text = \"A jednak zawsze znajdzie się ktoś, kto z pełnym przekonaniem przewidzi ulewny deszcz – i zapomni zabrać parasol.\"\n",
    "\n",
    "\n",
    "speech_prompts_folder = \"speech_prompts\"\n",
    "sample_audio_path = f\"{speech_prompts_folder}/alex.wav\"\n",
    "sample_audio_path = f\"{speech_prompts_folder}/alice.wav\"\n",
    "sample_audio_path = f\"{speech_prompts_folder}/krzysiek.wav\"\n",
    "model = \"multilingual_xtts_v2\"\n",
    "generated_path = f\"generated/{model}/krzysiek.wav\"\n",
    "\n",
    "tts.tts_to_file(\n",
    "  text=target_text,\n",
    "  speaker_wav=sample_audio_path,\n",
    "  language=\"pl\",\n",
    "  file_path=generated_path\n",
    ")\n"
   ]
  },
  {
   "cell_type": "code",
   "execution_count": null,
   "id": "fbfa51bd",
   "metadata": {},
   "outputs": [],
   "source": []
  }
 ],
 "metadata": {
  "kernelspec": {
   "display_name": ".venv",
   "language": "python",
   "name": "python3"
  },
  "language_info": {
   "codemirror_mode": {
    "name": "ipython",
    "version": 3
   },
   "file_extension": ".py",
   "mimetype": "text/x-python",
   "name": "python",
   "nbconvert_exporter": "python",
   "pygments_lexer": "ipython3",
   "version": "3.12.8"
  }
 },
 "nbformat": 4,
 "nbformat_minor": 5
}
